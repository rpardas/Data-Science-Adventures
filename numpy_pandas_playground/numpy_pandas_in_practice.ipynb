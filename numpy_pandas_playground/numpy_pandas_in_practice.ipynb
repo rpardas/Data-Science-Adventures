{
 "cells": [
  {
   "cell_type": "markdown",
   "metadata": {},
   "source": [
    "# Putting numpy and pandas to use"
   ]
  },
  {
   "cell_type": "markdown",
   "metadata": {},
   "source": [
    "### 1. Write a function that takes in a long string and prints back the words in string in reverse order"
   ]
  },
  {
   "cell_type": "code",
   "execution_count": 1,
   "metadata": {},
   "outputs": [],
   "source": [
    "def rev_string():\n",
    "    \"\"\" This function takes a string and returns a list with the words in sentence in reverse order\"\"\"\n",
    "    s = input(\"Please enter a sentence (no quotes): \")\n",
    "\n",
    "    return s.split()[::-1]"
   ]
  },
  {
   "cell_type": "code",
   "execution_count": 2,
   "metadata": {},
   "outputs": [
    {
     "data": {
      "text/plain": [
       "['numpy', 'and', 'pandas', 'practicing']"
      ]
     },
     "execution_count": 2,
     "metadata": {},
     "output_type": "execute_result"
    }
   ],
   "source": [
    "rev_string()"
   ]
  },
  {
   "cell_type": "markdown",
   "metadata": {},
   "source": [
    "### 2. Write a Function for getting all the even numbers and odd numbers  from 'n' numbers"
   ]
  },
  {
   "cell_type": "code",
   "execution_count": 3,
   "metadata": {},
   "outputs": [],
   "source": [
    "def even_odd(n):\n",
    "    even = []\n",
    "    odd = []\n",
    "    for i in range(1, n+1):\n",
    "        if (i % 2 == 0):\n",
    "            even.append(i)\n",
    "        else:\n",
    "            odd.append(i)\n",
    "    print (\"Even numbers are: \", even)\n",
    "    print (\"Odd numbers are: \", odd)"
   ]
  },
  {
   "cell_type": "code",
   "execution_count": 4,
   "metadata": {},
   "outputs": [
    {
     "name": "stdout",
     "output_type": "stream",
     "text": [
      "Even numbers are:  [2, 4, 6, 8, 10]\n",
      "Odd numbers are:  [1, 3, 5, 7, 9]\n"
     ]
    }
   ],
   "source": [
    "even_odd(10)"
   ]
  },
  {
   "cell_type": "markdown",
   "metadata": {},
   "source": [
    "### 3. Write a function for getting all prime numbers from 2 to n numbers"
   ]
  },
  {
   "cell_type": "code",
   "execution_count": 5,
   "metadata": {},
   "outputs": [],
   "source": [
    "def prime(n):\n",
    "    composite = []\n",
    "    for num in range(2, n+1):\n",
    "        for i in range(2,num+1):\n",
    "            if (num % i == 0 and i != num):\n",
    "                composite.append(num)\n",
    "                break\n",
    "    prime = list(set(range(2,n+1))-set(composite))\n",
    "    prime.sort()\n",
    "    \n",
    "    print(\"Prime Numbers are: \", prime)\n",
    "    print (\"Composite Numbers are: \", composite)"
   ]
  },
  {
   "cell_type": "code",
   "execution_count": 6,
   "metadata": {},
   "outputs": [
    {
     "name": "stdout",
     "output_type": "stream",
     "text": [
      "Prime Numbers are:  [2, 3, 5, 7, 11, 13, 17, 19]\n",
      "Composite Numbers are:  [4, 6, 8, 9, 10, 12, 14, 15, 16, 18, 20]\n"
     ]
    }
   ],
   "source": [
    "prime(20)"
   ]
  },
  {
   "cell_type": "markdown",
   "metadata": {},
   "source": [
    "### 4. Write a function to get 'n' Fibonacci Numbers"
   ]
  },
  {
   "cell_type": "code",
   "execution_count": 7,
   "metadata": {},
   "outputs": [],
   "source": [
    "def fibonacci(n):\n",
    "    fn = []\n",
    "    fn.append(0)\n",
    "    fn.append(1)\n",
    "    for num in range(2,n):\n",
    "        fn.append(fn[num-1] + fn[num-2])\n",
    "    \n",
    "    print (\"Fibonacci Numbers are: \", fn)"
   ]
  },
  {
   "cell_type": "code",
   "execution_count": 8,
   "metadata": {},
   "outputs": [
    {
     "name": "stdout",
     "output_type": "stream",
     "text": [
      "Fibonacci Numbers are:  [0, 1, 1, 2, 3, 5, 8, 13, 21, 34, 55, 89, 144]\n"
     ]
    }
   ],
   "source": [
    "fibonacci(13)"
   ]
  },
  {
   "cell_type": "markdown",
   "metadata": {},
   "source": [
    "### 5. Write a function that develops a guessing game"
   ]
  },
  {
   "cell_type": "code",
   "execution_count": 9,
   "metadata": {},
   "outputs": [],
   "source": [
    "def guess():\n",
    "    \n",
    "    import random\n",
    "    \n",
    "    s = random.randint(1,10)\n",
    "\n",
    "    g = int(input(\"You have total 3 guesses. Please enter your guess: \"))\n",
    "\n",
    "    ng = 1\n",
    "    \n",
    "    while(g != \"quit\" and ng <= 3):\n",
    "        \n",
    "        if(g == s):\n",
    "            print (\"Congrats!\" + \" You have won the game in \" +  str(ng) + \" guesses.\" + \"Correct number is indeed: \" +str(g))    \n",
    "            break\n",
    "        \n",
    "        if (ng == 3):\n",
    "                print (\"You have run out of guesses. Correct number is: \", s)\n",
    "                break\n",
    "                \n",
    "        if(g < s):\n",
    "            hint = \"Guess higher\"\n",
    "        else:\n",
    "            hint = \"Guess lower\"\n",
    "            \n",
    "        g = int(input(\"Incorrect.  \" + hint + \": You now have only \" + str(3-ng) + \" guesses. \" + \"Please guess again: \" ))\n",
    "\n",
    "        ng  = ng+1\n"
   ]
  },
  {
   "cell_type": "code",
   "execution_count": 10,
   "metadata": {},
   "outputs": [
    {
     "name": "stdout",
     "output_type": "stream",
     "text": [
      "Congrats! You have won the game in 2 guesses.Correct number is indeed: 2\n"
     ]
    }
   ],
   "source": [
    "guess()"
   ]
  },
  {
   "cell_type": "code",
   "execution_count": 11,
   "metadata": {},
   "outputs": [
    {
     "name": "stdout",
     "output_type": "stream",
     "text": [
      "Congrats! You have won the game in 1 guesses.Correct number is indeed: 3\n"
     ]
    }
   ],
   "source": [
    "guess()"
   ]
  },
  {
   "cell_type": "code",
   "execution_count": 12,
   "metadata": {},
   "outputs": [
    {
     "name": "stdout",
     "output_type": "stream",
     "text": [
      "You have run out of guesses. Correct number is:  7\n"
     ]
    }
   ],
   "source": [
    "guess()"
   ]
  }
 ],
 "metadata": {
  "kernelspec": {
   "display_name": "base",
   "language": "python",
   "name": "python3"
  },
  "language_info": {
   "codemirror_mode": {
    "name": "ipython",
    "version": 3
   },
   "file_extension": ".py",
   "mimetype": "text/x-python",
   "name": "python",
   "nbconvert_exporter": "python",
   "pygments_lexer": "ipython3",
   "version": "3.12.7"
  }
 },
 "nbformat": 4,
 "nbformat_minor": 2
}
