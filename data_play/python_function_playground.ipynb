{
 "cells": [
  {
   "cell_type": "markdown",
   "metadata": {},
   "source": [
    "#### Take a long string and print the words in reverse order"
   ]
  },
  {
   "cell_type": "code",
   "execution_count": 1,
   "metadata": {},
   "outputs": [],
   "source": [
    "def rev_string():\n",
    "    s = input(\"Please enter a sentence (no quotes): \")\n",
    "    return s.split()[::-1]"
   ]
  },
  {
   "cell_type": "code",
   "execution_count": 2,
   "metadata": {},
   "outputs": [
    {
     "data": {
      "text/plain": [
       "['Python', 'with', 'input', 'this', 'Reversing']"
      ]
     },
     "execution_count": 2,
     "metadata": {},
     "output_type": "execute_result"
    }
   ],
   "source": [
    "rev_string()"
   ]
  },
  {
   "cell_type": "markdown",
   "metadata": {},
   "source": [
    "#### Get all the even and odd numbers from a range up to `n`"
   ]
  },
  {
   "cell_type": "code",
   "execution_count": 3,
   "metadata": {},
   "outputs": [],
   "source": [
    "def even_odd(n):\n",
    "    even = []\n",
    "    odd = []\n",
    "    for i in range(1, n+1):\n",
    "        if (i % 2 == 0):\n",
    "            even.append(i)\n",
    "        else:\n",
    "            odd.append(i)\n",
    "    print (\"Even numbers: \", even)\n",
    "    print (\"Odd numbers: \", odd)"
   ]
  },
  {
   "cell_type": "code",
   "execution_count": 4,
   "metadata": {},
   "outputs": [
    {
     "name": "stdout",
     "output_type": "stream",
     "text": [
      "Even numbers:  [2, 4, 6, 8, 10]\n",
      "Odd numbers:  [1, 3, 5, 7, 9]\n"
     ]
    }
   ],
   "source": [
    "even_odd(10)"
   ]
  },
  {
   "cell_type": "markdown",
   "metadata": {},
   "source": [
    "#### Get all the prime numbers from 2 to `n`"
   ]
  },
  {
   "cell_type": "code",
   "execution_count": 5,
   "metadata": {},
   "outputs": [],
   "source": [
    "def prime(n):\n",
    "    composite = []\n",
    "    for num in range(2, n+1):\n",
    "        for i in range(2,num+1):\n",
    "            if (num % i == 0 and i != num):\n",
    "                composite.append(num)\n",
    "                break\n",
    "    prime = list(set(range(2,n+1))-set(composite))\n",
    "    prime.sort()\n",
    "    \n",
    "    print(\"Prime Numbers: \", prime)\n",
    "    print(\"Composite Numbers: \", composite)"
   ]
  },
  {
   "cell_type": "code",
   "execution_count": 6,
   "metadata": {},
   "outputs": [
    {
     "name": "stdout",
     "output_type": "stream",
     "text": [
      "Prime Numbers:  [2, 3, 5, 7, 11, 13, 17, 19]\n",
      "Composite Numbers:  [4, 6, 8, 9, 10, 12, 14, 15, 16, 18, 20]\n"
     ]
    }
   ],
   "source": [
    "prime(20)"
   ]
  },
  {
   "cell_type": "markdown",
   "metadata": {},
   "source": [
    "#### Fibonacci numbers"
   ]
  },
  {
   "cell_type": "code",
   "execution_count": 7,
   "metadata": {},
   "outputs": [],
   "source": [
    "def fibonacci(n):\n",
    "    fn = []\n",
    "    fn.append(0)\n",
    "    fn.append(1)\n",
    "    for num in range(2,n):\n",
    "        fn.append(fn[num-1] + fn[num-2])\n",
    "    \n",
    "    print (\"Fibonacci numbers: \", fn)"
   ]
  },
  {
   "cell_type": "code",
   "execution_count": 8,
   "metadata": {},
   "outputs": [
    {
     "name": "stdout",
     "output_type": "stream",
     "text": [
      "Fibonacci numbers:  [0, 1, 1, 2, 3, 5, 8, 13, 21, 34, 55, 89, 144]\n"
     ]
    }
   ],
   "source": [
    "fibonacci(13)"
   ]
  },
  {
   "cell_type": "markdown",
   "metadata": {},
   "source": [
    "#### Guessing game"
   ]
  },
  {
   "cell_type": "code",
   "execution_count": null,
   "metadata": {},
   "outputs": [],
   "source": [
    "import random\n",
    "\n",
    "def guess():\n",
    "    \n",
    "    s = random.randint(1,10)\n",
    "    g = int(input(\"You have 3 guesses. Please enter your guess: \"))\n",
    "    ng = 1\n",
    "    \n",
    "    while(g != \"quit\" and ng <= 3):\n",
    "        if(g == s):\n",
    "            print (f\"Congrats! You won the game in {str(ng)} guesses. The correct number is: {str(ng)}\" )\n",
    "            break\n",
    "        if (ng == 3):\n",
    "            print (\"You have run out of guesses. Correct number is: \", s)\n",
    "            break        \n",
    "        if(g < s):\n",
    "            hint = \"Guess higher\"\n",
    "        else:\n",
    "            hint = \"Guess lower\"\n",
    "            \n",
    "        g = int(input(f\"Incorrect. {hint} You now have only {str(3-ng)} guesses. Please guess again: \"))\n",
    "        ng = ng + 1"
   ]
  },
  {
   "cell_type": "code",
   "execution_count": 12,
   "metadata": {},
   "outputs": [
    {
     "name": "stdout",
     "output_type": "stream",
     "text": [
      "You have run out of guesses. Correct number is:  10\n"
     ]
    }
   ],
   "source": [
    "guess()"
   ]
  },
  {
   "cell_type": "code",
   "execution_count": null,
   "metadata": {},
   "outputs": [],
   "source": [
    "guess()"
   ]
  },
  {
   "cell_type": "code",
   "execution_count": null,
   "metadata": {},
   "outputs": [],
   "source": [
    "guess()"
   ]
  }
 ],
 "metadata": {
  "kernelspec": {
   "display_name": "data-science-adventures",
   "language": "python",
   "name": "python3"
  },
  "language_info": {
   "codemirror_mode": {
    "name": "ipython",
    "version": 3
   },
   "file_extension": ".py",
   "mimetype": "text/x-python",
   "name": "python",
   "nbconvert_exporter": "python",
   "pygments_lexer": "ipython3",
   "version": "3.12.8"
  }
 },
 "nbformat": 4,
 "nbformat_minor": 2
}
